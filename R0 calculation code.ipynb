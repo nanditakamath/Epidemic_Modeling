{
  "nbformat": 4,
  "nbformat_minor": 0,
  "metadata": {
    "colab": {
      "provenance": []
    },
    "kernelspec": {
      "name": "python3",
      "display_name": "Python 3"
    },
    "language_info": {
      "name": "python"
    }
  },
  "cells": [
    {
      "cell_type": "code",
      "execution_count": null,
      "metadata": {
        "id": "NGKoQ-ip-5Uv"
      },
      "outputs": [],
      "source": [
        "from sympy import*\n",
        "init_printing()\n",
        "S,E1,E2,Ip,Iexp,R,V, mu,sigma,beta,p1,p2,p3,delta,w1,w2,m,gamma_p,gamma_exp,theta,pi,f=symbols('S E1 E2 Ip Iexp R V  mu sigma beta p1 p2 p3 delta w1 w2 m gamma_p gamma_exp theta pi f'\n",
        ")"
      ]
    },
    {
      "cell_type": "code",
      "source": [
        "f1=(p1*beta*S*(Ip+Iexp))\n",
        "f2=(p2*beta*S*(Ip+Iexp))\n",
        "f3=0\n",
        "f4=0\n",
        "\n",
        "\n",
        "\n",
        "F=Matrix ([f1,f2,f3,f4]).jacobian([E1,E2,Ip,Iexp])\n",
        "F"
      ],
      "metadata": {
        "colab": {
          "base_uri": "https://localhost:8080/",
          "height": 98
        },
        "id": "TSXyIqCM-6n-",
        "outputId": "16328970-a707-4d87-e77a-07f62ccde54d"
      },
      "execution_count": null,
      "outputs": [
        {
          "output_type": "execute_result",
          "data": {
            "text/plain": [
              "⎡0  0  S⋅β⋅p₁  S⋅β⋅p₁⎤\n",
              "⎢                    ⎥\n",
              "⎢0  0  S⋅β⋅p₂  S⋅β⋅p₂⎥\n",
              "⎢                    ⎥\n",
              "⎢0  0    0       0   ⎥\n",
              "⎢                    ⎥\n",
              "⎣0  0    0       0   ⎦"
            ],
            "text/latex": "$\\displaystyle \\left[\\begin{matrix}0 & 0 & S \\beta p_{1} & S \\beta p_{1}\\\\0 & 0 & S \\beta p_{2} & S \\beta p_{2}\\\\0 & 0 & 0 & 0\\\\0 & 0 & 0 & 0\\end{matrix}\\right]$"
          },
          "metadata": {},
          "execution_count": 2
        }
      ]
    },
    {
      "cell_type": "code",
      "source": [
        "F=F.subs(S,((pi-(pi*f))+(pi*theta))/(m*mu+mu*mu+mu*theta))\n",
        "F\n",
        "#(pi*mu+pi*theta)/(m*mu*p3+mu*mu+mu*theta)\n",
        "#((pi-(pi*f))+(pi*theta))/(m*mu*p3+mu*mu+mu*theta)\n"
      ],
      "metadata": {
        "colab": {
          "base_uri": "https://localhost:8080/",
          "height": 109
        },
        "id": "z0nv_SkQ-6rT",
        "outputId": "6e9ad28d-cd6f-4a7b-8b3d-d68c584b791f"
      },
      "execution_count": null,
      "outputs": [
        {
          "output_type": "execute_result",
          "data": {
            "text/plain": [
              "⎡      β⋅p₁⋅(-f⋅π + π⋅θ + π)  β⋅p₁⋅(-f⋅π + π⋅θ + π)⎤\n",
              "⎢0  0  ─────────────────────  ─────────────────────⎥\n",
              "⎢                 2                      2         ⎥\n",
              "⎢          m⋅μ + μ  + μ⋅θ         m⋅μ + μ  + μ⋅θ   ⎥\n",
              "⎢                                                  ⎥\n",
              "⎢      β⋅p₂⋅(-f⋅π + π⋅θ + π)  β⋅p₂⋅(-f⋅π + π⋅θ + π)⎥\n",
              "⎢0  0  ─────────────────────  ─────────────────────⎥\n",
              "⎢                 2                      2         ⎥\n",
              "⎢          m⋅μ + μ  + μ⋅θ         m⋅μ + μ  + μ⋅θ   ⎥\n",
              "⎢                                                  ⎥\n",
              "⎢0  0            0                      0          ⎥\n",
              "⎢                                                  ⎥\n",
              "⎣0  0            0                      0          ⎦"
            ],
            "text/latex": "$\\displaystyle \\left[\\begin{matrix}0 & 0 & \\frac{\\beta p_{1} \\left(- f \\pi + \\pi \\theta + \\pi\\right)}{m \\mu + \\mu^{2} + \\mu \\theta} & \\frac{\\beta p_{1} \\left(- f \\pi + \\pi \\theta + \\pi\\right)}{m \\mu + \\mu^{2} + \\mu \\theta}\\\\0 & 0 & \\frac{\\beta p_{2} \\left(- f \\pi + \\pi \\theta + \\pi\\right)}{m \\mu + \\mu^{2} + \\mu \\theta} & \\frac{\\beta p_{2} \\left(- f \\pi + \\pi \\theta + \\pi\\right)}{m \\mu + \\mu^{2} + \\mu \\theta}\\\\0 & 0 & 0 & 0\\\\0 & 0 & 0 & 0\\end{matrix}\\right]$"
          },
          "metadata": {},
          "execution_count": 3
        }
      ]
    },
    {
      "cell_type": "code",
      "source": [],
      "metadata": {
        "id": "LuSe5-0IElfE"
      },
      "execution_count": null,
      "outputs": []
    },
    {
      "cell_type": "code",
      "source": [
        "v1=-(-(w1*E1)-(mu*E1))\n",
        "v2=-(-(w2*E2)-(mu*E2))\n",
        "v3=-((delta*w1*E1)+(delta*w2*E2)-(gamma_p*Ip)-((mu+sigma)*Ip))\n",
        "v4=-(((1-delta)*w1*E1)+((1-delta)*w2*E2)-(gamma_exp*Iexp)-((mu+sigma)*Iexp))\n",
        "\n",
        "\n",
        "V=Matrix ([v1,v2,v3,v4]).jacobian([E1,E2,Ip,Iexp])\n",
        "V"
      ],
      "metadata": {
        "colab": {
          "base_uri": "https://localhost:8080/",
          "height": 98
        },
        "id": "Wg-lp1hA-6t6",
        "outputId": "8e05f4b6-4f2b-4ad2-d45f-a86fb25a7d01"
      },
      "execution_count": null,
      "outputs": [
        {
          "output_type": "execute_result",
          "data": {
            "text/plain": [
              "⎡  μ + w₁          0           0            0      ⎤\n",
              "⎢                                                  ⎥\n",
              "⎢     0         μ + w₂         0            0      ⎥\n",
              "⎢                                                  ⎥\n",
              "⎢   -δ⋅w₁        -δ⋅w₂     γₚ + μ + σ       0      ⎥\n",
              "⎢                                                  ⎥\n",
              "⎣-w₁⋅(1 - δ)  -w₂⋅(1 - δ)      0       γₑₓₚ + μ + σ⎦"
            ],
            "text/latex": "$\\displaystyle \\left[\\begin{matrix}\\mu + w_{1} & 0 & 0 & 0\\\\0 & \\mu + w_{2} & 0 & 0\\\\- \\delta w_{1} & - \\delta w_{2} & \\gamma_{p} + \\mu + \\sigma & 0\\\\- w_{1} \\left(1 - \\delta\\right) & - w_{2} \\left(1 - \\delta\\right) & 0 & \\gamma_{exp} + \\mu + \\sigma\\end{matrix}\\right]$"
          },
          "metadata": {},
          "execution_count": 4
        }
      ]
    },
    {
      "cell_type": "code",
      "source": [
        "V.inv()"
      ],
      "metadata": {
        "colab": {
          "base_uri": "https://localhost:8080/",
          "height": 110
        },
        "id": "xYBlYWrM_DZx",
        "outputId": "fba6eb55-bbe3-4441-816d-eecccbcb109f"
      },
      "execution_count": null,
      "outputs": [
        {
          "output_type": "execute_result",
          "data": {
            "text/plain": [
              "⎡                   1                                                         \n",
              "⎢                 ──────                                        0             \n",
              "⎢                 μ + w₁                                                      \n",
              "⎢                                                                             \n",
              "⎢                                                              1              \n",
              "⎢                    0                                       ──────           \n",
              "⎢                                                            μ + w₂           \n",
              "⎢                                                                             \n",
              "⎢                   δ⋅w₁                                       δ⋅w₂           \n",
              "⎢  ─────────────────────────────────────      ────────────────────────────────\n",
              "⎢                  2                                          2               \n",
              "⎢  γₚ⋅μ + γₚ⋅w₁ + μ  + μ⋅σ + μ⋅w₁ + σ⋅w₁      γₚ⋅μ + γₚ⋅w₂ + μ  + μ⋅σ + μ⋅w₂ +\n",
              "⎢                                                                             \n",
              "⎢                -δ⋅w₁ + w₁                                 -δ⋅w₂ + w₂        \n",
              "⎢─────────────────────────────────────────  ──────────────────────────────────\n",
              "⎢                    2                                          2             \n",
              "⎣γₑₓₚ⋅μ + γₑₓₚ⋅w₁ + μ  + μ⋅σ + μ⋅w₁ + σ⋅w₁  γₑₓₚ⋅μ + γₑₓₚ⋅w₂ + μ  + μ⋅σ + μ⋅w₂\n",
              "\n",
              "                                 ⎤\n",
              "             0            0      ⎥\n",
              "                                 ⎥\n",
              "                                 ⎥\n",
              "                                 ⎥\n",
              "             0            0      ⎥\n",
              "                                 ⎥\n",
              "                                 ⎥\n",
              "             1                   ⎥\n",
              "─────    ──────────       0      ⎥\n",
              "         γₚ + μ + σ              ⎥\n",
              " σ⋅w₂                            ⎥\n",
              "                                 ⎥\n",
              "                          1      ⎥\n",
              "───────      0       ────────────⎥\n",
              "                     γₑₓₚ + μ + σ⎥\n",
              " + σ⋅w₂                          ⎦"
            ],
            "text/latex": "$\\displaystyle \\left[\\begin{matrix}\\frac{1}{\\mu + w_{1}} & 0 & 0 & 0\\\\0 & \\frac{1}{\\mu + w_{2}} & 0 & 0\\\\\\frac{\\delta w_{1}}{\\gamma_{p} \\mu + \\gamma_{p} w_{1} + \\mu^{2} + \\mu \\sigma + \\mu w_{1} + \\sigma w_{1}} & \\frac{\\delta w_{2}}{\\gamma_{p} \\mu + \\gamma_{p} w_{2} + \\mu^{2} + \\mu \\sigma + \\mu w_{2} + \\sigma w_{2}} & \\frac{1}{\\gamma_{p} + \\mu + \\sigma} & 0\\\\\\frac{- \\delta w_{1} + w_{1}}{\\gamma_{exp} \\mu + \\gamma_{exp} w_{1} + \\mu^{2} + \\mu \\sigma + \\mu w_{1} + \\sigma w_{1}} & \\frac{- \\delta w_{2} + w_{2}}{\\gamma_{exp} \\mu + \\gamma_{exp} w_{2} + \\mu^{2} + \\mu \\sigma + \\mu w_{2} + \\sigma w_{2}} & 0 & \\frac{1}{\\gamma_{exp} + \\mu + \\sigma}\\end{matrix}\\right]$"
          },
          "metadata": {},
          "execution_count": 5
        }
      ]
    },
    {
      "cell_type": "code",
      "source": [
        "G=F*V.inv()\n",
        "G"
      ],
      "metadata": {
        "colab": {
          "base_uri": "https://localhost:8080/",
          "height": 110
        },
        "id": "CUklPjkG_Dbz",
        "outputId": "1a29f101-c605-4863-de07-dbea569fb642"
      },
      "execution_count": null,
      "outputs": [
        {
          "output_type": "execute_result",
          "data": {
            "text/plain": [
              "⎡               β⋅δ⋅p₁⋅w₁⋅(-f⋅π + π⋅θ + π)                               β⋅p₁⋅\n",
              "⎢──────────────────────────────────────────────────────── + ──────────────────\n",
              "⎢⎛       2      ⎞ ⎛                2                    ⎞   ⎛       2      ⎞ ⎛\n",
              "⎢⎝m⋅μ + μ  + μ⋅θ⎠⋅⎝γₚ⋅μ + γₚ⋅w₁ + μ  + μ⋅σ + μ⋅w₁ + σ⋅w₁⎠   ⎝m⋅μ + μ  + μ⋅θ⎠⋅⎝\n",
              "⎢                                                                             \n",
              "⎢               β⋅δ⋅p₂⋅w₁⋅(-f⋅π + π⋅θ + π)                               β⋅p₂⋅\n",
              "⎢──────────────────────────────────────────────────────── + ──────────────────\n",
              "⎢⎛       2      ⎞ ⎛                2                    ⎞   ⎛       2      ⎞ ⎛\n",
              "⎢⎝m⋅μ + μ  + μ⋅θ⎠⋅⎝γₚ⋅μ + γₚ⋅w₁ + μ  + μ⋅σ + μ⋅w₁ + σ⋅w₁⎠   ⎝m⋅μ + μ  + μ⋅θ⎠⋅⎝\n",
              "⎢                                                                             \n",
              "⎢                                                           0                 \n",
              "⎢                                                                             \n",
              "⎣                                                           0                 \n",
              "\n",
              "(-δ⋅w₁ + w₁)⋅(-f⋅π + π⋅θ + π)                              β⋅δ⋅p₁⋅w₂⋅(-f⋅π + π\n",
              "──────────────────────────────────────────  ──────────────────────────────────\n",
              "                    2                    ⎞  ⎛       2      ⎞ ⎛                \n",
              "γₑₓₚ⋅μ + γₑₓₚ⋅w₁ + μ  + μ⋅σ + μ⋅w₁ + σ⋅w₁⎠  ⎝m⋅μ + μ  + μ⋅θ⎠⋅⎝γₚ⋅μ + γₚ⋅w₂ + μ\n",
              "                                                                              \n",
              "(-δ⋅w₁ + w₁)⋅(-f⋅π + π⋅θ + π)                              β⋅δ⋅p₂⋅w₂⋅(-f⋅π + π\n",
              "──────────────────────────────────────────  ──────────────────────────────────\n",
              "                    2                    ⎞  ⎛       2      ⎞ ⎛                \n",
              "γₑₓₚ⋅μ + γₑₓₚ⋅w₁ + μ  + μ⋅σ + μ⋅w₁ + σ⋅w₁⎠  ⎝m⋅μ + μ  + μ⋅θ⎠⋅⎝γₚ⋅μ + γₚ⋅w₂ + μ\n",
              "                                                                              \n",
              "                                                                              \n",
              "                                                                              \n",
              "                                                                              \n",
              "\n",
              "⋅θ + π)                               β⋅p₁⋅(-δ⋅w₂ + w₂)⋅(-f⋅π + π⋅θ + π)      \n",
              "────────────────────── + ─────────────────────────────────────────────────────\n",
              "2                    ⎞   ⎛       2      ⎞ ⎛                    2              \n",
              "  + μ⋅σ + μ⋅w₂ + σ⋅w₂⎠   ⎝m⋅μ + μ  + μ⋅θ⎠⋅⎝γₑₓₚ⋅μ + γₑₓₚ⋅w₂ + μ  + μ⋅σ + μ⋅w₂ \n",
              "                                                                              \n",
              "⋅θ + π)                               β⋅p₂⋅(-δ⋅w₂ + w₂)⋅(-f⋅π + π⋅θ + π)      \n",
              "────────────────────── + ─────────────────────────────────────────────────────\n",
              "2                    ⎞   ⎛       2      ⎞ ⎛                    2              \n",
              "  + μ⋅σ + μ⋅w₂ + σ⋅w₂⎠   ⎝m⋅μ + μ  + μ⋅θ⎠⋅⎝γₑₓₚ⋅μ + γₑₓₚ⋅w₂ + μ  + μ⋅σ + μ⋅w₂ \n",
              "                                                                              \n",
              "                         0                                                    \n",
              "                                                                              \n",
              "                         0                                                    \n",
              "\n",
              "             β⋅p₁⋅(-f⋅π + π⋅θ + π)           β⋅p₁⋅(-f⋅π + π⋅θ + π)     ⎤\n",
              "───────  ─────────────────────────────  ───────────────────────────────⎥\n",
              "      ⎞               ⎛       2      ⎞                 ⎛       2      ⎞⎥\n",
              "+ σ⋅w₂⎠  (γₚ + μ + σ)⋅⎝m⋅μ + μ  + μ⋅θ⎠  (γₑₓₚ + μ + σ)⋅⎝m⋅μ + μ  + μ⋅θ⎠⎥\n",
              "                                                                       ⎥\n",
              "             β⋅p₂⋅(-f⋅π + π⋅θ + π)           β⋅p₂⋅(-f⋅π + π⋅θ + π)     ⎥\n",
              "───────  ─────────────────────────────  ───────────────────────────────⎥\n",
              "      ⎞               ⎛       2      ⎞                 ⎛       2      ⎞⎥\n",
              "+ σ⋅w₂⎠  (γₚ + μ + σ)⋅⎝m⋅μ + μ  + μ⋅θ⎠  (γₑₓₚ + μ + σ)⋅⎝m⋅μ + μ  + μ⋅θ⎠⎥\n",
              "                                                                       ⎥\n",
              "                       0                               0               ⎥\n",
              "                                                                       ⎥\n",
              "                       0                               0               ⎦"
            ],
            "text/latex": "$\\displaystyle \\left[\\begin{matrix}\\frac{\\beta \\delta p_{1} w_{1} \\left(- f \\pi + \\pi \\theta + \\pi\\right)}{\\left(m \\mu + \\mu^{2} + \\mu \\theta\\right) \\left(\\gamma_{p} \\mu + \\gamma_{p} w_{1} + \\mu^{2} + \\mu \\sigma + \\mu w_{1} + \\sigma w_{1}\\right)} + \\frac{\\beta p_{1} \\left(- \\delta w_{1} + w_{1}\\right) \\left(- f \\pi + \\pi \\theta + \\pi\\right)}{\\left(m \\mu + \\mu^{2} + \\mu \\theta\\right) \\left(\\gamma_{exp} \\mu + \\gamma_{exp} w_{1} + \\mu^{2} + \\mu \\sigma + \\mu w_{1} + \\sigma w_{1}\\right)} & \\frac{\\beta \\delta p_{1} w_{2} \\left(- f \\pi + \\pi \\theta + \\pi\\right)}{\\left(m \\mu + \\mu^{2} + \\mu \\theta\\right) \\left(\\gamma_{p} \\mu + \\gamma_{p} w_{2} + \\mu^{2} + \\mu \\sigma + \\mu w_{2} + \\sigma w_{2}\\right)} + \\frac{\\beta p_{1} \\left(- \\delta w_{2} + w_{2}\\right) \\left(- f \\pi + \\pi \\theta + \\pi\\right)}{\\left(m \\mu + \\mu^{2} + \\mu \\theta\\right) \\left(\\gamma_{exp} \\mu + \\gamma_{exp} w_{2} + \\mu^{2} + \\mu \\sigma + \\mu w_{2} + \\sigma w_{2}\\right)} & \\frac{\\beta p_{1} \\left(- f \\pi + \\pi \\theta + \\pi\\right)}{\\left(\\gamma_{p} + \\mu + \\sigma\\right) \\left(m \\mu + \\mu^{2} + \\mu \\theta\\right)} & \\frac{\\beta p_{1} \\left(- f \\pi + \\pi \\theta + \\pi\\right)}{\\left(\\gamma_{exp} + \\mu + \\sigma\\right) \\left(m \\mu + \\mu^{2} + \\mu \\theta\\right)}\\\\\\frac{\\beta \\delta p_{2} w_{1} \\left(- f \\pi + \\pi \\theta + \\pi\\right)}{\\left(m \\mu + \\mu^{2} + \\mu \\theta\\right) \\left(\\gamma_{p} \\mu + \\gamma_{p} w_{1} + \\mu^{2} + \\mu \\sigma + \\mu w_{1} + \\sigma w_{1}\\right)} + \\frac{\\beta p_{2} \\left(- \\delta w_{1} + w_{1}\\right) \\left(- f \\pi + \\pi \\theta + \\pi\\right)}{\\left(m \\mu + \\mu^{2} + \\mu \\theta\\right) \\left(\\gamma_{exp} \\mu + \\gamma_{exp} w_{1} + \\mu^{2} + \\mu \\sigma + \\mu w_{1} + \\sigma w_{1}\\right)} & \\frac{\\beta \\delta p_{2} w_{2} \\left(- f \\pi + \\pi \\theta + \\pi\\right)}{\\left(m \\mu + \\mu^{2} + \\mu \\theta\\right) \\left(\\gamma_{p} \\mu + \\gamma_{p} w_{2} + \\mu^{2} + \\mu \\sigma + \\mu w_{2} + \\sigma w_{2}\\right)} + \\frac{\\beta p_{2} \\left(- \\delta w_{2} + w_{2}\\right) \\left(- f \\pi + \\pi \\theta + \\pi\\right)}{\\left(m \\mu + \\mu^{2} + \\mu \\theta\\right) \\left(\\gamma_{exp} \\mu + \\gamma_{exp} w_{2} + \\mu^{2} + \\mu \\sigma + \\mu w_{2} + \\sigma w_{2}\\right)} & \\frac{\\beta p_{2} \\left(- f \\pi + \\pi \\theta + \\pi\\right)}{\\left(\\gamma_{p} + \\mu + \\sigma\\right) \\left(m \\mu + \\mu^{2} + \\mu \\theta\\right)} & \\frac{\\beta p_{2} \\left(- f \\pi + \\pi \\theta + \\pi\\right)}{\\left(\\gamma_{exp} + \\mu + \\sigma\\right) \\left(m \\mu + \\mu^{2} + \\mu \\theta\\right)}\\\\0 & 0 & 0 & 0\\\\0 & 0 & 0 & 0\\end{matrix}\\right]$"
          },
          "metadata": {},
          "execution_count": 6
        }
      ]
    },
    {
      "cell_type": "code",
      "source": [
        "G.eigenvals()"
      ],
      "metadata": {
        "colab": {
          "base_uri": "https://localhost:8080/",
          "height": 58
        },
        "id": "TPIVT3cx_Lo_",
        "outputId": "7e3def17-1dc1-42a9-fc7c-3fafde3c1ca0"
      },
      "execution_count": null,
      "outputs": [
        {
          "output_type": "execute_result",
          "data": {
            "text/plain": [
              "⎧      -β⋅π⋅(f - θ - 1)⋅(μ⋅p₁⋅w₁ + μ⋅p₂⋅w₂ + p₁⋅w₁⋅w₂ + p₂⋅w₁⋅w₂)⋅(δ⋅γₑₓₚ - δ⋅\n",
              "⎨0: 3, ───────────────────────────────────────────────────────────────────────\n",
              "⎩                    μ⋅(μ + w₁)⋅(μ + w₂)⋅(γₑₓₚ + μ + σ)⋅(γₚ + μ + σ)⋅(m + μ + \n",
              "\n",
              "γₚ + γₚ + μ + σ)    ⎫\n",
              "─────────────────: 1⎬\n",
              "θ)                  ⎭"
            ],
            "image/png": "[encoded data removed]",
            "text/latex": "$\\displaystyle \\left\\{ 0 : 3, \\  - \\frac{\\beta \\pi \\left(f - \\theta - 1\\right) \\left(\\mu p_{1} w_{1} + \\mu p_{2} w_{2} + p_{1} w_{1} w_{2} + p_{2} w_{1} w_{2}\\right) \\left(\\delta \\gamma_{exp} - \\delta \\gamma_{p} + \\gamma_{p} + \\mu + \\sigma\\right)}{\\mu \\left(\\mu + w_{1}\\right) \\left(\\mu + w_{2}\\right) \\left(\\gamma_{exp} + \\mu + \\sigma\\right) \\left(\\gamma_{p} + \\mu + \\sigma\\right) \\left(m + \\mu + \\theta\\right)} : 1\\right\\}$"
          },
          "metadata": {},
          "execution_count": 7
        }
      ]
    }
  ]
}